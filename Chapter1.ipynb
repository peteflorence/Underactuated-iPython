{
 "cells": [
  {
   "cell_type": "markdown",
   "metadata": {},
   "source": [
    "# Chapter 1\n",
    "# Fully-actuated vs Underactuated Systems\n",
    "\n",
    "Still in many ways fundamentally limited by control technology which matured on rigid robotic arms in structured factory environments.\n",
    "\n",
    "Underactuated robotics focuses on building control systems which use the natural dynamics of the machines in an attempt to achieve extraordinary performance in terms of speed, efficiency, or robustness.\n",
    "\n",
    "## 1.1 Motivation\n",
    "\n",
    "### 1.1.1 Honda's ASIMO vs. passive dynamic walkers\n",
    "\n",
    "### 1.1.2 Birds vs modern aircraft\n",
    "\n",
    "Birds routinely execute maneuves outside of conservative flight regimes that modern aircraft are confined to.\n",
    "\n",
    "Birds are considerably more effective than our best aircraft at exploiting energy (e.g. wind) in the air.\n",
    "\n",
    "The wandering albatroess can fly for hours, or even days, without flapping its wings.\n",
    "\n",
    "Birds are also incredibly maneuverable.  The roll rate of a highly acrobatic aircraft (e.g., the A-4 skyhawk) is approximately 720 deg/sec; a bard swallow has a roll rate in excess of 5000 deg/sec.\n",
    "\n",
    "### 1.1.3 The common theme\n",
    "\n",
    "Classical control techniques for robotics are based on the idea that feedback can be used to override the dynamics of our machines.  To achieve outstanding dynamic performance (efficieny, agility, and robustness) from our robots, we need to understand how to design control systems which take advantage of the dynamics, not cancel them out.\n",
    "\n",
    "## 1.2 Definitions\n",
    "\n",
    "According to Newton, the dynamics of mechanical systems are second order $(F = ma)$.  Their state is given by a vector of positions $\\textbf{q}$ and a vector of velocitioes $\\dot{\\textbf{q}}$ and (possibly) time.  The general form for a second-order controllable dynamical system is:\n",
    "\n",
    "$$ \\ddot{\\textbf{q}} = \\textbf{f}(\\textbf{q}, \\dot{\\textbf{q}}, \\textbf{u}, t) $$\n",
    "\n",
    "Where $\\textbf{u}$ is a control vector.  As we will see, the dynamics for many of the robots that we care about turn out to affine in commanded torque, so let's consider a slightly constrained form:\n",
    "\n",
    "$$ \\ddot{\\textbf{q}} = \\textbf{f}_1(\\textbf{q}, \\dot{\\textbf{q}}, t) + \\textbf{f}_2(\\textbf{q}, \\dot{\\textbf{q}}, t)\\textbf{u} $$\n",
    "\n",
    "\n",
    "- *Fully-Acutated*: A control system described by the equation above is fully-actuated in configuration $(\\textbf{q}, \\dot{\\textbf{q}}, t)$ if it is able to command an instantaneous acceleration in an arbitrary direction in $\\textbf{q}$:\n",
    "\n",
    "$$ \\text{rank}[\\textbf{f}_2(\\textbf{q}, \\dot{\\textbf{q}}, t)] = dim[\\textbf{q}] $$\n",
    "\n",
    "- \\textbf{Underactuated}: A control system described by the equation above is underactuated in configuration $(\\textbf{q}, \\dot{\\textbf{q}}, t)$ if it is not able to command an instantaneous acceleration in an arbitrary direction in $\\textbf{q}$:\n",
    "\n",
    "$$ \\text{rank}[\\textbf{f}_2(\\textbf{q}, \\dot{\\textbf{q}}, t)] < dim[\\textbf{q}] $$\n"
   ]
  },
  {
   "cell_type": "markdown",
   "metadata": {},
   "source": [
    "##1.3 Feedback Linearization\n",
    "\n",
    "Fully-actuated systems are dramatically easier to control than underactuated systems.\n",
    "\n",
    "For fully actuated systems with known dynamics (e.g. $\\textbf{f_1}$ and $\\textbf{f_2}$ are known), it is possible to use feedback to effectively change a nonlinear contorl problem into a linear control problem.\n",
    "\n",
    "\n"
   ]
  },
  {
   "cell_type": "code",
   "execution_count": null,
   "metadata": {
    "collapsed": true
   },
   "outputs": [],
   "source": []
  }
 ],
 "metadata": {
  "kernelspec": {
   "display_name": "Python 2",
   "language": "python",
   "name": "python2"
  },
  "language_info": {
   "codemirror_mode": {
    "name": "ipython",
    "version": 2
   },
   "file_extension": ".py",
   "mimetype": "text/x-python",
   "name": "python",
   "nbconvert_exporter": "python",
   "pygments_lexer": "ipython2",
   "version": "2.7.10"
  }
 },
 "nbformat": 4,
 "nbformat_minor": 0
}
