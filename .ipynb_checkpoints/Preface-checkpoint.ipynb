{
 "cells": [
  {
   "cell_type": "markdown",
   "metadata": {},
   "source": [
    "# Preface\n",
    "\n",
    "Tight coupling between:\n",
    "- mechanical design\n",
    "- passive dynamics\n",
    "- nonlinear control synthesis\n",
    "\n",
    "Notes also cover selected material from:\n",
    "- Optimization theory\n",
    "- Motion planning\n",
    "- Machine learning\n",
    "\n",
    "#### Model Systems\n",
    "- Introduces a series of increasingly complex dynamical systems and overviews some of the relevant results from the literature for each system\n",
    "\n",
    "#### Nonlinear Planning and Control\n",
    "- Introduces quite general computational algorithms for reasoning about those dynamical systems, with optimization theory playing a central role\n",
    "- Many of these algorithms treat the dynamical system as known and deterministic until the last chapters which introduce stochasticity and robustness\n",
    "\n",
    "#### Estimation and Learning\n",
    "- Follows up with techniques from statistics and machine learning which capitalize on this viewpoint to introduce additional algorithms which can operate with less assumptions on knowing the model or having perfect sensors\n",
    "\n",
    "#### Application and Extensions\n",
    "\n"
   ]
  }
 ],
 "metadata": {
  "kernelspec": {
   "display_name": "Python 2",
   "language": "python",
   "name": "python2"
  },
  "language_info": {
   "codemirror_mode": {
    "name": "ipython",
    "version": 2
   },
   "file_extension": ".py",
   "mimetype": "text/x-python",
   "name": "python",
   "nbconvert_exporter": "python",
   "pygments_lexer": "ipython2",
   "version": "2.7.10"
  }
 },
 "nbformat": 4,
 "nbformat_minor": 0
}
