{
 "cells": [
  {
   "cell_type": "markdown",
   "metadata": {},
   "source": [
    "# Chapter 2\n",
    "# The Simple Pendulum\n",
    "\n",
    "## 2.1 Introduction\n",
    "\n",
    "#### Example 3.6\n",
    "\n",
    "`cd examples/Quadrotor`\n",
    "`runLQR();`\n",
    "\n",
    "Although LQR is optimal for the linearized system, it is not necessarily the best linear control solution for maximizing the basin of attraction of the fixed-point.  The theory of robust control, which explicitly takes into account the differences between the linearized model and the nonlinear model, will produce controllers which outperform our LQR solution in this regard.\n",
    "\n",
    "## 3.4 Partial Feedback Linearization\n",
    "\n",
    "**Collocated** partial feedback linearization linearizes the dynamics of the actuated joints.\n",
    "\n",
    "**Non-collocated** partial feedback linearization linearizes the dynamics of the unactuated joints.\n",
    "\n",
    "\n",
    "\n",
    "\n",
    "\n"
   ]
  }
 ],
 "metadata": {
  "kernelspec": {
   "display_name": "Python 2",
   "language": "python",
   "name": "python2"
  },
  "language_info": {
   "codemirror_mode": {
    "name": "ipython",
    "version": 2
   },
   "file_extension": ".py",
   "mimetype": "text/x-python",
   "name": "python",
   "nbconvert_exporter": "python",
   "pygments_lexer": "ipython2",
   "version": "2.7.10"
  }
 },
 "nbformat": 4,
 "nbformat_minor": 0
}
