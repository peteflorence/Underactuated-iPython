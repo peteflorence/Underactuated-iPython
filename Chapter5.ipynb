{
 "cells": [
  {
   "cell_type": "markdown",
   "metadata": {},
   "source": [
    "# Chapter 5\n",
    "# Highly-articulated Legged Robots\n",
    "\n",
    "The passive dynamic walkers and hopping robots described in the last chapter capture the fundamental dynamics of legged locomotion -- dynamics which are fundamentally nonlinear and punctuated by impulsive events due to making and breaking contact with the environment.\n",
    "\n",
    "But if you start reading the literature on humanoid robots, or many-legged robots like quadrupeds, then you will find a quite different set of ideas taking center stage: ideas like \"zero-moment point\" and footstep planning.  The goal of this chapter is to penetrate that world.\n",
    "\n",
    "I'd like to start the discussion with a model that might seem quite far from the world of legged robots, but I think it's a very useful way to think about the problem.\n",
    "\n",
    "## 5.1 Center of Mass Dynamics\n",
    "\n",
    "### 5.1.1 A hovercraft model\n",
    "\n",
    "Imagine you have a flying vehicle modeled as a single rigid body in a gravity field with some number of force \"thrusters\" attached.  We'll describe the configuration of the vehicle by its orientation, $\\theta$, and the location of its center of mass $(x,z)$.  The vector from the center of mass to thruster $i$ is given by $r_i$, yielding the equations of motion.\n",
    "\n",
    "## 5.2 The special case of flat terrain\n",
    "\n",
    "Let us define the \"center of pressure\" (CoP) as the point on the ground where:\n",
    "\n",
    "$$x_{cop} = \\frac{\\sum_i p_{i,x}F_{i,z}}{\\sum_i F_{i,z}} $$\n",
    "\n",
    "And since $p_i{i,z}$ are all equal on flat terrain, $z_{cop}$ is just the height of the terrain.  It turns out that the center of pressue is a \"zero-moment point\" (ZMP) -- a property that we will demonstrate below -- and moment-balance equation gives us a very important relationship between the location of the CoP and the dynamics of the CoM:"
   ]
  },
  {
   "cell_type": "code",
   "execution_count": null,
   "metadata": {
    "collapsed": true
   },
   "outputs": [],
   "source": []
  }
 ],
 "metadata": {
  "kernelspec": {
   "display_name": "Python 2",
   "language": "python",
   "name": "python2"
  },
  "language_info": {
   "codemirror_mode": {
    "name": "ipython",
    "version": 2
   },
   "file_extension": ".py",
   "mimetype": "text/x-python",
   "name": "python",
   "nbconvert_exporter": "python",
   "pygments_lexer": "ipython2",
   "version": "2.7.10"
  }
 },
 "nbformat": 4,
 "nbformat_minor": 0
}
