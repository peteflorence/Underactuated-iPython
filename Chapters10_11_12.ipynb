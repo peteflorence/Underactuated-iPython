{
 "cells": [
  {
   "cell_type": "markdown",
   "metadata": {},
   "source": [
    "# Chapter 10\n",
    "# Linear Quadratic Regulators\n",
    "\n",
    "While solving the dynamic programming problem for continuous systems is very hard in general, there are a few very important special cases where the solutions are very accessible.\n",
    "\n",
    "Most of these involve variants on the case of linear dynamics and quadratic cost.\n",
    "\n",
    "The simplest case, called the linear quadratic regulator (LQR), is formulated as stabilizing a time-invariant linear system to the origin.\n",
    "\n",
    "The linear quadratic regulator is likely the most important and influential result in optimal control theory to date.  In this chapter we will derive the basic algorithm and a variety of useful extensions.\n",
    "\n",
    "\n",
    "## 10.1 Basic Derivation\n",
    "\n",
    "Consider a linear time-invariant system in state-space form:\n",
    "\n",
    "$$\\dot{\\textbf{x}} = \\textbf{Ax} + \\textbf{Bu} $$\n",
    "\n",
    "with the infinite-horizon cost function given by\n",
    "\n",
    "$$ J = \\int_0^\\infty \\big[ \\textbf{x}^T\\textbf{Qx} + \\textbf{u}^T\\textbf{Ru} \\big] dt $$\n",
    "$$ \\textbf{Q} = \\textbf{Q}^T \\geq 0 $$\n",
    "$$ \\textbf{R} = \\textbf{R}^T \\geq 0 $$\n",
    "\n",
    "Our goal is to find the optimal cost-to-go function $J^*(\\textbf{x})$ which satisfies the HJB:\n",
    "\n",
    "$$\\forall \\textbf{x}, \\ \\ \\ 0 =  \\underset{u}{min} \\big[ \\textbf{x}^T\\textbf{Qx} + \\textbf{u}^T\\textbf{Ru}   + \\frac{\\partial J^*} {\\partial \\textbf{x}} ( \\textbf{Ax} + \\textbf{Bu} ) \\big] $$\n",
    "\n",
    "There is one magic step here -- it is well known that for this problem the optimal cost-to-go function is quadratic.  This is easy to verify.  Let us choose the form:\n",
    "\n",
    "### 10.2.2 Time-varying LQR\n",
    "\n",
    "The derivation above holds even if the dynamics are given by\n",
    "\n",
    "$$\\dot{\\textbf{x}} = \\textbf{A}(t)\\textbf{x} + \\textbf{B}(t)\\textbf{u} $$\n",
    "\n",
    "Similarly, the cost functions $\\textbf{Q}$ and $\\textbf{R}$ can also be time-varying.  This is quite surprising, as the class of time-varying linear systems is a quite general class of systems.  It requires essentially no assumptions on how the time-dependence enters, except perhaps that if $\\textbf{A}$ or $\\textbf{B}$ is discontinuous in time then one would have to use the proper techniques to accurately integrat the differential equation. As we will see in the next chapter, one of the most powerful applications involves linearizing around a nominal trajectory of a nonlinear system and using LQR to provide a trajectory controller.\n",
    "\n",
    "### 10.2.3 Linear Quadratic Optimal Tracking\n",
    "\n",
    "\n",
    "\n",
    "\n",
    "\n",
    "# Chapter 11\n",
    "# Lyapunov Analysis\n",
    "\n",
    "\n",
    "\n",
    "\n",
    "\n",
    "\n",
    "# Chapter 12\n",
    "# Trajectory Optimization\n",
    "\n",
    "\n",
    "\n"
   ]
  },
  {
   "cell_type": "code",
   "execution_count": null,
   "metadata": {
    "collapsed": true
   },
   "outputs": [],
   "source": []
  }
 ],
 "metadata": {
  "kernelspec": {
   "display_name": "Python 2",
   "language": "python",
   "name": "python2"
  },
  "language_info": {
   "codemirror_mode": {
    "name": "ipython",
    "version": 2
   },
   "file_extension": ".py",
   "mimetype": "text/x-python",
   "name": "python",
   "nbconvert_exporter": "python",
   "pygments_lexer": "ipython2",
   "version": "2.7.10"
  }
 },
 "nbformat": 4,
 "nbformat_minor": 0
}
