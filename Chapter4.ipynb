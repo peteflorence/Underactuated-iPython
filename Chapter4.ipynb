{
 "cells": [
  {
   "cell_type": "markdown",
   "metadata": {},
   "source": [
    "# Chapter 4\n",
    "# Walking and Running\n",
    "\n",
    "Practical legged locomotion is one of the fundamental unsolved problems in robotics.  Many challenges are in mechanical design - a walking robot must carry all of its actuators and power, making it difficult to carry ideal force/torque - controlled actuators.  But many of the unsolved problems are because walking robots are underactuated control systems.\n",
    "\n",
    "In this chapter we'll introduce some of the simple models of walking and robots, the control problems that result, and a very brief sumamry of some of the control solutions described in the literature.\n",
    "\n",
    "## 4.1 Why is walking so hard?\n",
    "\n",
    "## 4.2 State of the art\n",
    "\n",
    "## The ballistic walker\n",
    "\n",
    "One of the earliest models of walking was proposed by McMahon (1980), who argued that humans use a mostly ballistic (passive) gait.  COM trajectory looks like a pendulum (roughly walking by vaulting).  EMG activity in stnace legs is high, but EMG in swing leg is very low, except for very beginning and end of swing.  Proposed a three-link \"ballistic walker\" model, which models a single swing phase (but not transitions to the next swing nor stability).  Interestingly, in recent years the field has developed a considerably deeper appreciation for the role of compliance during walking: simple walking-by-vaulting models are starting to fall out of favor.\n",
    "\n",
    "The most elementary model of passive dynamic walking, first used in the context of walking by McGeer (1990) is the rimless wheel.  This simplified system has rigid legs and only a point mass at the hip as illustrated in the figure above.  To further simplify the analysis, we make the following modeling assumptions:\n",
    "\n",
    "- Collisions with the groudn are inelastic and impulsive (only angular momentum is conserved about the point of collision).\n",
    "- The stance foot acts as a pin joint and does not slip\n",
    "- The transfer of support at the time of contact is instantaneous (no double support phase)\n",
    "\n",
    "## 4.5 Limit Cycles\n",
    "\n",
    "\n"
   ]
  }
 ],
 "metadata": {
  "kernelspec": {
   "display_name": "Python 2",
   "language": "python",
   "name": "python2"
  },
  "language_info": {
   "codemirror_mode": {
    "name": "ipython",
    "version": 2
   },
   "file_extension": ".py",
   "mimetype": "text/x-python",
   "name": "python",
   "nbconvert_exporter": "python",
   "pygments_lexer": "ipython2",
   "version": "2.7.10"
  }
 },
 "nbformat": 4,
 "nbformat_minor": 0
}
